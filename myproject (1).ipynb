{
 "cells": [
  {
   "cell_type": "markdown",
   "metadata": {},
   "source": [
    " # PROJECT : DATA ANALYSIS USING PANDAS."
   ]
  },
  {
   "cell_type": "markdown",
   "metadata": {},
   "source": [
    " ## HEIGHT OF MALE AND FEMALE BY COUNTRY DATA ANLYSIS."
   ]
  },
  {
   "cell_type": "markdown",
   "metadata": {},
   "source": [
    "### DESCRIPTION.\n",
    "In this analysis, i chose a data set on the height of male and female by country, identified four questions and analyzed the data to get answers.\n",
    "This data set offers both metric and imperial height units for each country. The imperial system uses feet and inches to measure height whereas metric system uses metres and centimetres to measure height.\n",
    "\n",
    "### CONTENT.\n",
    "The data contains the following six columns:\n",
    "1. Rank.\n",
    "2. Country name.\n",
    "3. Male height in Cm.\n",
    "4. Female height in Cm.\n",
    "5. Male height in Ft.\n",
    "6. Female height in Ft.\n",
    "\n",
    "### ACKNOWLEDGEMENT.\n",
    "The data used in this analysis is available on [Kaggle](https://www.kaggle.com/datasets/majyhain/height-of-male-and-female-by-country-2022)\n"
   ]
  },
  {
   "cell_type": "code",
   "execution_count": null,
   "metadata": {},
   "outputs": [],
   "source": []
  },
  {
   "cell_type": "markdown",
   "metadata": {},
   "source": [
    "  ### 1. Importing Libraries"
   ]
  },
  {
   "cell_type": "code",
   "execution_count": 1,
   "metadata": {},
   "outputs": [],
   "source": [
    "import pandas as pd\n",
    "import numpy as np\n",
    "import matplotlib.pyplot as plt\n"
   ]
  },
  {
   "cell_type": "markdown",
   "metadata": {},
   "source": [
    " ### 2. Reading The Data"
   ]
  },
  {
   "cell_type": "code",
   "execution_count": 2,
   "metadata": {},
   "outputs": [
    {
     "name": "stdout",
     "output_type": "stream",
     "text": [
      "<bound method DataFrame.to_string of      Rank            Country Name  Male Height in Cm  Female Height in Cm  \\\n",
      "0       1             Netherlands             183.78               170.36   \n",
      "1       2              Montenegro             183.30               169.96   \n",
      "2       3                 Estonia             182.79               168.66   \n",
      "3       4  Bosnia and Herzegovina             182.47               167.47   \n",
      "4       5                 Iceland             182.10               168.91   \n",
      "..    ...                     ...                ...                  ...   \n",
      "194   195              Mozambique             164.30               155.42   \n",
      "195   196        Papua New Guinea             163.10               156.89   \n",
      "196   197         Solomon Islands             163.07               156.79   \n",
      "197   198                    Laos             162.78               153.10   \n",
      "198   199             Timor-Leste             160.13               152.71   \n",
      "\n",
      "     Male Height in Ft  Female Height in Ft  \n",
      "0                 6.03                 5.59  \n",
      "1                 6.01                 5.58  \n",
      "2                 6.00                 5.53  \n",
      "3                 5.99                 5.49  \n",
      "4                 5.97                 5.54  \n",
      "..                 ...                  ...  \n",
      "194               5.39                 5.10  \n",
      "195               5.35                 5.15  \n",
      "196               5.35                 5.14  \n",
      "197               5.34                 5.02  \n",
      "198               5.25                 5.01  \n",
      "\n",
      "[199 rows x 6 columns]>\n"
     ]
    }
   ],
   "source": [
    "df_data = pd.read_csv(\"/home/mercy/Desktop/male and female height/malefemaleheight.csv\")\n",
    "print(df_data.to_string)"
   ]
  },
  {
   "cell_type": "markdown",
   "metadata": {},
   "source": [
    "### 3. Overview of The Data"
   ]
  },
  {
   "cell_type": "code",
   "execution_count": 3,
   "metadata": {},
   "outputs": [
    {
     "data": {
      "text/plain": [
       "(199, 6)"
      ]
     },
     "execution_count": 3,
     "metadata": {},
     "output_type": "execute_result"
    }
   ],
   "source": [
    "df_data.shape"
   ]
  },
  {
   "cell_type": "markdown",
   "metadata": {},
   "source": [
    "#### 3.1 Let us get basic information about our dataset's structure"
   ]
  },
  {
   "cell_type": "code",
   "execution_count": 9,
   "metadata": {},
   "outputs": [
    {
     "name": "stdout",
     "output_type": "stream",
     "text": [
      "<class 'pandas.core.frame.DataFrame'>\n",
      "RangeIndex: 199 entries, 0 to 198\n",
      "Data columns (total 6 columns):\n",
      " #   Column               Non-Null Count  Dtype  \n",
      "---  ------               --------------  -----  \n",
      " 0   Rank                 199 non-null    int64  \n",
      " 1   Country Name         199 non-null    object \n",
      " 2   Male Height in Cm    199 non-null    float64\n",
      " 3   Female Height in Cm  199 non-null    float64\n",
      " 4   Male Height in Ft    199 non-null    float64\n",
      " 5   Female Height in Ft  199 non-null    float64\n",
      "dtypes: float64(4), int64(1), object(1)\n",
      "memory usage: 9.5+ KB\n"
     ]
    }
   ],
   "source": [
    "df_data.info()"
   ]
  },
  {
   "cell_type": "markdown",
   "metadata": {},
   "source": [
    "NB: so the rank column has a standard data type of int, country name object and the rest columns as floats."
   ]
  },
  {
   "cell_type": "markdown",
   "metadata": {},
   "source": [
    "#### 3.2 Locate rows 5 to 9"
   ]
  },
  {
   "cell_type": "code",
   "execution_count": 4,
   "metadata": {},
   "outputs": [
    {
     "name": "stdout",
     "output_type": "stream",
     "text": [
      "   Rank    Country Name  Male Height in Cm  Female Height in Cm  \\\n",
      "5     6         Denmark             181.89               169.47   \n",
      "6     7  Czech Republic             181.19               167.96   \n",
      "7     8          Latvia             181.17               168.81   \n",
      "8     9        Slovakia             181.02               167.12   \n",
      "9    10        Slovenia             180.98               167.20   \n",
      "\n",
      "   Male Height in Ft  Female Height in Ft  \n",
      "5               5.97                 5.56  \n",
      "6               5.94                 5.51  \n",
      "7               5.94                 5.54  \n",
      "8               5.94                 5.48  \n",
      "9               5.94                 5.49  \n"
     ]
    }
   ],
   "source": [
    "print(df_data.loc[[5, 6, 7, 8, 9]])"
   ]
  },
  {
   "cell_type": "markdown",
   "metadata": {},
   "source": [
    "### 4. DATA CLEANING"
   ]
  },
  {
   "cell_type": "markdown",
   "metadata": {},
   "source": [
    "#### 4.1 Let us find duplicates in the data"
   ]
  },
  {
   "cell_type": "code",
   "execution_count": 5,
   "metadata": {},
   "outputs": [
    {
     "name": "stdout",
     "output_type": "stream",
     "text": [
      "0      False\n",
      "1      False\n",
      "2      False\n",
      "3      False\n",
      "4      False\n",
      "       ...  \n",
      "194    False\n",
      "195    False\n",
      "196    False\n",
      "197    False\n",
      "198    False\n",
      "Length: 199, dtype: bool\n"
     ]
    }
   ],
   "source": [
    "print(df_data.duplicated())"
   ]
  },
  {
   "cell_type": "markdown",
   "metadata": {},
   "source": [
    "### Question 1: what is the avarage height of men in countries?"
   ]
  },
  {
   "cell_type": "code",
   "execution_count": 60,
   "metadata": {},
   "outputs": [
    {
     "data": {
      "text/plain": [
       "Male Height in Ft      5.678794\n",
       "Male Height in Cm    173.089045\n",
       "dtype: float64"
      ]
     },
     "execution_count": 60,
     "metadata": {},
     "output_type": "execute_result"
    }
   ],
   "source": [
    "df_data[[\"Male Height in Ft\", \"Male Height in Cm\"]].mean()\n"
   ]
  },
  {
   "cell_type": "markdown",
   "metadata": {},
   "source": [
    "### Question two: what is the average Height of Women in Countries?"
   ]
  },
  {
   "cell_type": "code",
   "execution_count": 30,
   "metadata": {},
   "outputs": [
    {
     "data": {
      "text/plain": [
       "Female Height in Ft      5.280402\n",
       "Female Height in Cm    160.942915\n",
       "dtype: float64"
      ]
     },
     "execution_count": 30,
     "metadata": {},
     "output_type": "execute_result"
    }
   ],
   "source": [
    "df_data[[\"Female Height in Ft\", \"Female Height in Cm\"]].mean()"
   ]
  },
  {
   "cell_type": "markdown",
   "metadata": {},
   "source": [
    "### Question three: Which countries have the smallest male and female average height?"
   ]
  },
  {
   "cell_type": "markdown",
   "metadata": {},
   "source": [
    "##### let us insert a column for the average of both male and female in each country in Ft."
   ]
  },
  {
   "cell_type": "code",
   "execution_count": 52,
   "metadata": {},
   "outputs": [
    {
     "data": {
      "text/html": [
       "<div>\n",
       "<style scoped>\n",
       "    .dataframe tbody tr th:only-of-type {\n",
       "        vertical-align: middle;\n",
       "    }\n",
       "\n",
       "    .dataframe tbody tr th {\n",
       "        vertical-align: top;\n",
       "    }\n",
       "\n",
       "    .dataframe thead th {\n",
       "        text-align: right;\n",
       "    }\n",
       "</style>\n",
       "<table border=\"1\" class=\"dataframe\">\n",
       "  <thead>\n",
       "    <tr style=\"text-align: right;\">\n",
       "      <th></th>\n",
       "      <th>Rank</th>\n",
       "      <th>Country Name</th>\n",
       "      <th>Male Height in Cm</th>\n",
       "      <th>Female Height in Cm</th>\n",
       "      <th>Male Height in Ft</th>\n",
       "      <th>Female Height in Ft</th>\n",
       "      <th>Both</th>\n",
       "    </tr>\n",
       "  </thead>\n",
       "  <tbody>\n",
       "    <tr>\n",
       "      <th>198</th>\n",
       "      <td>199</td>\n",
       "      <td>Timor-Leste</td>\n",
       "      <td>160.13</td>\n",
       "      <td>152.71</td>\n",
       "      <td>5.25</td>\n",
       "      <td>5.01</td>\n",
       "      <td>5.130</td>\n",
       "    </tr>\n",
       "    <tr>\n",
       "      <th>193</th>\n",
       "      <td>194</td>\n",
       "      <td>Guatemala</td>\n",
       "      <td>164.36</td>\n",
       "      <td>150.91</td>\n",
       "      <td>5.39</td>\n",
       "      <td>4.95</td>\n",
       "      <td>5.170</td>\n",
       "    </tr>\n",
       "    <tr>\n",
       "      <th>197</th>\n",
       "      <td>198</td>\n",
       "      <td>Laos</td>\n",
       "      <td>162.78</td>\n",
       "      <td>153.10</td>\n",
       "      <td>5.34</td>\n",
       "      <td>5.02</td>\n",
       "      <td>5.180</td>\n",
       "    </tr>\n",
       "    <tr>\n",
       "      <th>192</th>\n",
       "      <td>193</td>\n",
       "      <td>Nepal</td>\n",
       "      <td>164.36</td>\n",
       "      <td>152.39</td>\n",
       "      <td>5.39</td>\n",
       "      <td>5.00</td>\n",
       "      <td>5.195</td>\n",
       "    </tr>\n",
       "    <tr>\n",
       "      <th>190</th>\n",
       "      <td>191</td>\n",
       "      <td>Bangladesh</td>\n",
       "      <td>165.08</td>\n",
       "      <td>152.38</td>\n",
       "      <td>5.42</td>\n",
       "      <td>5.00</td>\n",
       "      <td>5.210</td>\n",
       "    </tr>\n",
       "  </tbody>\n",
       "</table>\n",
       "</div>"
      ],
      "text/plain": [
       "     Rank Country Name  Male Height in Cm  Female Height in Cm  \\\n",
       "198   199  Timor-Leste             160.13               152.71   \n",
       "193   194    Guatemala             164.36               150.91   \n",
       "197   198         Laos             162.78               153.10   \n",
       "192   193        Nepal             164.36               152.39   \n",
       "190   191   Bangladesh             165.08               152.38   \n",
       "\n",
       "     Male Height in Ft  Female Height in Ft   Both  \n",
       "198               5.25                 5.01  5.130  \n",
       "193               5.39                 4.95  5.170  \n",
       "197               5.34                 5.02  5.180  \n",
       "192               5.39                 5.00  5.195  \n",
       "190               5.42                 5.00  5.210  "
      ]
     },
     "execution_count": 52,
     "metadata": {},
     "output_type": "execute_result"
    }
   ],
   "source": [
    "both = (df_data['Male Height in Ft'] + df_data['Female Height in Ft'])/2\n",
    "\n",
    "df_data['Both'] = both\n",
    "df_data.sort_values(by=[\"Both\"], inplace=True)\n",
    "\n",
    "df_data.head()"
   ]
  },
  {
   "cell_type": "code",
   "execution_count": 53,
   "metadata": {},
   "outputs": [
    {
     "data": {
      "text/html": [
       "<div>\n",
       "<style scoped>\n",
       "    .dataframe tbody tr th:only-of-type {\n",
       "        vertical-align: middle;\n",
       "    }\n",
       "\n",
       "    .dataframe tbody tr th {\n",
       "        vertical-align: top;\n",
       "    }\n",
       "\n",
       "    .dataframe thead th {\n",
       "        text-align: right;\n",
       "    }\n",
       "</style>\n",
       "<table border=\"1\" class=\"dataframe\">\n",
       "  <thead>\n",
       "    <tr style=\"text-align: right;\">\n",
       "      <th></th>\n",
       "      <th>Rank</th>\n",
       "      <th>Country Name</th>\n",
       "      <th>Male Height in Cm</th>\n",
       "      <th>Female Height in Cm</th>\n",
       "      <th>Male Height in Ft</th>\n",
       "      <th>Female Height in Ft</th>\n",
       "      <th>Both</th>\n",
       "    </tr>\n",
       "  </thead>\n",
       "  <tbody>\n",
       "    <tr>\n",
       "      <th>4</th>\n",
       "      <td>5</td>\n",
       "      <td>Iceland</td>\n",
       "      <td>182.10</td>\n",
       "      <td>168.91</td>\n",
       "      <td>5.97</td>\n",
       "      <td>5.54</td>\n",
       "      <td>5.755</td>\n",
       "    </tr>\n",
       "    <tr>\n",
       "      <th>5</th>\n",
       "      <td>6</td>\n",
       "      <td>Denmark</td>\n",
       "      <td>181.89</td>\n",
       "      <td>169.47</td>\n",
       "      <td>5.97</td>\n",
       "      <td>5.56</td>\n",
       "      <td>5.765</td>\n",
       "    </tr>\n",
       "    <tr>\n",
       "      <th>2</th>\n",
       "      <td>3</td>\n",
       "      <td>Estonia</td>\n",
       "      <td>182.79</td>\n",
       "      <td>168.66</td>\n",
       "      <td>6.00</td>\n",
       "      <td>5.53</td>\n",
       "      <td>5.765</td>\n",
       "    </tr>\n",
       "    <tr>\n",
       "      <th>1</th>\n",
       "      <td>2</td>\n",
       "      <td>Montenegro</td>\n",
       "      <td>183.30</td>\n",
       "      <td>169.96</td>\n",
       "      <td>6.01</td>\n",
       "      <td>5.58</td>\n",
       "      <td>5.795</td>\n",
       "    </tr>\n",
       "    <tr>\n",
       "      <th>0</th>\n",
       "      <td>1</td>\n",
       "      <td>Netherlands</td>\n",
       "      <td>183.78</td>\n",
       "      <td>170.36</td>\n",
       "      <td>6.03</td>\n",
       "      <td>5.59</td>\n",
       "      <td>5.810</td>\n",
       "    </tr>\n",
       "  </tbody>\n",
       "</table>\n",
       "</div>"
      ],
      "text/plain": [
       "   Rank Country Name  Male Height in Cm  Female Height in Cm  \\\n",
       "4     5      Iceland             182.10               168.91   \n",
       "5     6      Denmark             181.89               169.47   \n",
       "2     3      Estonia             182.79               168.66   \n",
       "1     2   Montenegro             183.30               169.96   \n",
       "0     1  Netherlands             183.78               170.36   \n",
       "\n",
       "   Male Height in Ft  Female Height in Ft   Both  \n",
       "4               5.97                 5.54  5.755  \n",
       "5               5.97                 5.56  5.765  \n",
       "2               6.00                 5.53  5.765  \n",
       "1               6.01                 5.58  5.795  \n",
       "0               6.03                 5.59  5.810  "
      ]
     },
     "execution_count": 53,
     "metadata": {},
     "output_type": "execute_result"
    }
   ],
   "source": [
    "df_data.sort_values(by=[\"Both\"], inplace=True)\n",
    "\n",
    "df_data.tail()"
   ]
  },
  {
   "cell_type": "markdown",
   "metadata": {},
   "source": [
    "### QUESTION FOUR : Using a graph determine the country that has the tallest male and female?\n",
    "\n"
   ]
  },
  {
   "cell_type": "code",
   "execution_count": 58,
   "metadata": {},
   "outputs": [
    {
     "data": {
      "text/html": [
       "<div>\n",
       "<style scoped>\n",
       "    .dataframe tbody tr th:only-of-type {\n",
       "        vertical-align: middle;\n",
       "    }\n",
       "\n",
       "    .dataframe tbody tr th {\n",
       "        vertical-align: top;\n",
       "    }\n",
       "\n",
       "    .dataframe thead th {\n",
       "        text-align: right;\n",
       "    }\n",
       "</style>\n",
       "<table border=\"1\" class=\"dataframe\">\n",
       "  <thead>\n",
       "    <tr style=\"text-align: right;\">\n",
       "      <th></th>\n",
       "      <th>Rank</th>\n",
       "      <th>Country Name</th>\n",
       "      <th>Male Height in Cm</th>\n",
       "      <th>Female Height in Cm</th>\n",
       "      <th>Male Height in Ft</th>\n",
       "      <th>Female Height in Ft</th>\n",
       "      <th>Both</th>\n",
       "    </tr>\n",
       "  </thead>\n",
       "  <tbody>\n",
       "    <tr>\n",
       "      <th>0</th>\n",
       "      <td>1</td>\n",
       "      <td>Netherlands</td>\n",
       "      <td>183.78</td>\n",
       "      <td>170.36</td>\n",
       "      <td>6.03</td>\n",
       "      <td>5.59</td>\n",
       "      <td>5.810</td>\n",
       "    </tr>\n",
       "    <tr>\n",
       "      <th>1</th>\n",
       "      <td>2</td>\n",
       "      <td>Montenegro</td>\n",
       "      <td>183.30</td>\n",
       "      <td>169.96</td>\n",
       "      <td>6.01</td>\n",
       "      <td>5.58</td>\n",
       "      <td>5.795</td>\n",
       "    </tr>\n",
       "    <tr>\n",
       "      <th>2</th>\n",
       "      <td>3</td>\n",
       "      <td>Estonia</td>\n",
       "      <td>182.79</td>\n",
       "      <td>168.66</td>\n",
       "      <td>6.00</td>\n",
       "      <td>5.53</td>\n",
       "      <td>5.765</td>\n",
       "    </tr>\n",
       "    <tr>\n",
       "      <th>3</th>\n",
       "      <td>4</td>\n",
       "      <td>Bosnia and Herzegovina</td>\n",
       "      <td>182.47</td>\n",
       "      <td>167.47</td>\n",
       "      <td>5.99</td>\n",
       "      <td>5.49</td>\n",
       "      <td>5.740</td>\n",
       "    </tr>\n",
       "    <tr>\n",
       "      <th>5</th>\n",
       "      <td>6</td>\n",
       "      <td>Denmark</td>\n",
       "      <td>181.89</td>\n",
       "      <td>169.47</td>\n",
       "      <td>5.97</td>\n",
       "      <td>5.56</td>\n",
       "      <td>5.765</td>\n",
       "    </tr>\n",
       "  </tbody>\n",
       "</table>\n",
       "</div>"
      ],
      "text/plain": [
       "   Rank            Country Name  Male Height in Cm  Female Height in Cm  \\\n",
       "0     1             Netherlands             183.78               170.36   \n",
       "1     2              Montenegro             183.30               169.96   \n",
       "2     3                 Estonia             182.79               168.66   \n",
       "3     4  Bosnia and Herzegovina             182.47               167.47   \n",
       "5     6                 Denmark             181.89               169.47   \n",
       "\n",
       "   Male Height in Ft  Female Height in Ft   Both  \n",
       "0               6.03                 5.59  5.810  \n",
       "1               6.01                 5.58  5.795  \n",
       "2               6.00                 5.53  5.765  \n",
       "3               5.99                 5.49  5.740  \n",
       "5               5.97                 5.56  5.765  "
      ]
     },
     "execution_count": 58,
     "metadata": {},
     "output_type": "execute_result"
    }
   ],
   "source": [
    "df_data.sort_values(by=[\"Male Height in Ft\",\"Female Height in Ft\"],inplace=True, ascending=False)\n",
    "df_data.head()"
   ]
  },
  {
   "cell_type": "code",
   "execution_count": 75,
   "metadata": {},
   "outputs": [
    {
     "data": {
      "image/png": "[encoded data removed]",
      "text/plain": [
       "<Figure size 432x288 with 1 Axes>"
      ]
     },
     "metadata": {
      "needs_background": "light"
     },
     "output_type": "display_data"
    },
    {
     "data": {
      "text/plain": [
       "<Figure size 1440x1440 with 0 Axes>"
      ]
     },
     "metadata": {},
     "output_type": "display_data"
    }
   ],
   "source": [
    "x  = np.array([\"Netherlands\", \"Montenegro\", \"Estonia\",\"Bosnia \", \"Denmark\"])\n",
    "y = np.array([6.03, 6.01, 6.00, 5.99, 5.97])\n",
    "plt.bar(x, y, color = \"blue\", width=0.5)\n",
    "plt.ylim(ymax=6.04,ymin=5.96)\n",
    "plt.figure(figsize=(20,20))\n",
    "plt.show()\n",
    "\n"
   ]
  }
 ],
 "metadata": {
  "interpreter": {
   "hash": "916dbcbb3f70747c44a77c7bcd40155683ae19c65e1c03b4aa3499c5328201f1"
  },
  "kernelspec": {
   "display_name": "Python 3.8.10 64-bit",
   "language": "python",
   "name": "python3"
  },
  "language_info": {
   "codemirror_mode": {
    "name": "ipython",
    "version": 3
   },
   "file_extension": ".py",
   "mimetype": "text/x-python",
   "name": "python",
   "nbconvert_exporter": "python",
   "pygments_lexer": "ipython3",
   "version": "3.8.10"
  },
  "orig_nbformat": 4
 },
 "nbformat": 4,
 "nbformat_minor": 2
}
